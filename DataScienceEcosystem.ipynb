{
 "cells": [
  {
   "cell_type": "markdown",
   "id": "b7d908b0-a0b7-4fc7-bb17-9f04032f90b9",
   "metadata": {
    "tags": []
   },
   "source": [
    "# Data Science Tools and Ecosystem"
   ]
  },
  {
   "cell_type": "markdown",
   "id": "9fc95504-b5a8-45f5-a545-498d9651d83f",
   "metadata": {},
   "source": [
    "In this notebook, Data Science Tools and Ecosystem are summarized."
   ]
  },
  {
   "cell_type": "markdown",
   "id": "cc980fc9-880d-4a6d-bdc5-f8eb2b743d3c",
   "metadata": {},
   "source": [
    "**Objectives:**\n",
    "- List popular languages for Data Science\n",
    "- List popular libraries of Data Science\n",
    "- List popular tools for Data Science\n",
    "- Evaluate Arithmetic expressions in Python"
   ]
  },
  {
   "cell_type": "markdown",
   "id": "eb3079e6-4c93-44bf-88a6-c53ac75576bf",
   "metadata": {},
   "source": [
    "Some of the popular languages that Data Scientists use are:\n",
    "1. Python\n",
    "2. R\n",
    "3. Julia"
   ]
  },
  {
   "cell_type": "markdown",
   "id": "ad1563d1-79c9-4a65-be9c-0586e11454a8",
   "metadata": {},
   "source": [
    "Some of the commonly used libraries used by Data Scientists include:\n",
    "1. Pandas\n",
    "2. NumPy\n",
    "3. SciPy"
   ]
  },
  {
   "cell_type": "markdown",
   "id": "32eeb605-dde2-4f26-a4c4-0899ff492179",
   "metadata": {
    "tags": []
   },
   "source": [
    " | Data Science Tools |\n",
    "----------------------\n",
    " | Jupyter Notebooks |\n",
    " | R Studio's |\n",
    " | Zeppline Notebooks |"
   ]
  },
  {
   "cell_type": "markdown",
   "id": "dafe392e-e605-44c1-8029-90a42a954b7f",
   "metadata": {},
   "source": [
    "### Below are a few examples of evaluating arithmetic expressions in Python"
   ]
  },
  {
   "cell_type": "code",
   "execution_count": 5,
   "id": "f8579814-f51b-4f5e-8798-9373a82292df",
   "metadata": {
    "tags": []
   },
   "outputs": [
    {
     "data": {
      "text/plain": [
       "17"
      ]
     },
     "execution_count": 5,
     "metadata": {},
     "output_type": "execute_result"
    }
   ],
   "source": [
    "# This a simple arithmetic expression to mutiply then add integers\n",
    "(3*4)+5"
   ]
  },
  {
   "cell_type": "code",
   "execution_count": 6,
   "id": "3dbcdc61-91fb-41be-af0a-abaf073e9df6",
   "metadata": {
    "tags": []
   },
   "outputs": [
    {
     "data": {
      "text/plain": [
       "3.3333333333333335"
      ]
     },
     "execution_count": 6,
     "metadata": {},
     "output_type": "execute_result"
    }
   ],
   "source": [
    "# This will convert 200 minutes to hours\n",
    "200/60"
   ]
  },
  {
   "cell_type": "markdown",
   "id": "bb817953-8d10-4468-a405-19d79022987e",
   "metadata": {},
   "source": [
    "## Author\n",
    "Ashish Chaturvedi"
   ]
  },
  {
   "cell_type": "code",
   "execution_count": null,
   "id": "827d4d59-69c6-4703-8f3b-3de33bbfd2ad",
   "metadata": {},
   "outputs": [],
   "source": []
  }
 ],
 "metadata": {
  "kernelspec": {
   "display_name": "Python",
   "language": "python",
   "name": "conda-env-python-py"
  },
  "language_info": {
   "codemirror_mode": {
    "name": "ipython",
    "version": 3
   },
   "file_extension": ".py",
   "mimetype": "text/x-python",
   "name": "python",
   "nbconvert_exporter": "python",
   "pygments_lexer": "ipython3",
   "version": "3.7.12"
  }
 },
 "nbformat": 4,
 "nbformat_minor": 5
}
